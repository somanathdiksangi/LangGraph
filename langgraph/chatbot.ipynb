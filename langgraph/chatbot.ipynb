{
 "cells": [
  {
   "cell_type": "code",
   "execution_count": 1,
   "id": "f84c0da3",
   "metadata": {},
   "outputs": [
    {
     "data": {
      "text/plain": [
       "ChatGroq(client=<groq.resources.chat.completions.Completions object at 0x00000253A8024DD0>, async_client=<groq.resources.chat.completions.AsyncCompletions object at 0x00000253A909AB70>, model_name='gemma2-9b-it', model_kwargs={}, groq_api_key=SecretStr('**********'))"
      ]
     },
     "execution_count": 1,
     "metadata": {},
     "output_type": "execute_result"
    }
   ],
   "source": [
    "import os\n",
    "from dotenv import load_dotenv\n",
    "from typing import TypedDict , Annotated\n",
    "from langgraph.graph.message import add_messages\n",
    "from langgraph.graph import StateGraph ,START,END\n",
    "\n",
    "\n",
    "\n",
    "load_dotenv()\n",
    "os.environ[\"GROQ_API_KEY\"]=os.getenv(\"GROQ_API_KEY\")\n",
    "os.environ[\"TAVILY_API_KEY\"]=os.getenv(\"TAVILY_API_KEY\")\n",
    "\n",
    "from langchain_groq import ChatGroq\n",
    "llm=ChatGroq(model=\"gemma2-9b-it\")\n",
    "llm"
   ]
  },
  {
   "cell_type": "code",
   "execution_count": 2,
   "id": "f71bfec2",
   "metadata": {},
   "outputs": [],
   "source": [
    "from langchain_community.tools import ArxivQueryRun,WikipediaQueryRun\n",
    "from langchain_community.utilities import WikipediaAPIWrapper,ArxivAPIWrapper"
   ]
  },
  {
   "cell_type": "code",
   "execution_count": 3,
   "id": "717f5314",
   "metadata": {},
   "outputs": [],
   "source": [
    "api_wrapper=ArxivAPIWrapper(top_k_results=2,doc_content_chars_max=500)"
   ]
  },
  {
   "cell_type": "code",
   "execution_count": 4,
   "id": "67c7b256",
   "metadata": {},
   "outputs": [],
   "source": [
    "arxiv=ArxivQueryRun(api_wrapper=api_wrapper)"
   ]
  },
  {
   "cell_type": "code",
   "execution_count": 5,
   "id": "8d36dadb",
   "metadata": {},
   "outputs": [
    {
     "data": {
      "text/plain": [
       "ArxivQueryRun(api_wrapper=ArxivAPIWrapper(arxiv_search=<class 'arxiv.Search'>, arxiv_exceptions=(<class 'arxiv.ArxivError'>, <class 'arxiv.UnexpectedEmptyPageError'>, <class 'arxiv.HTTPError'>), top_k_results=2, ARXIV_MAX_QUERY_LENGTH=300, continue_on_failure=False, load_max_docs=100, load_all_available_meta=False, doc_content_chars_max=500))"
      ]
     },
     "execution_count": 5,
     "metadata": {},
     "output_type": "execute_result"
    }
   ],
   "source": [
    "arxiv"
   ]
  },
  {
   "cell_type": "code",
   "execution_count": 6,
   "id": "decef6cb",
   "metadata": {},
   "outputs": [
    {
     "data": {
      "text/plain": [
       "'Published: 2018-07-02\\nTitle: The Matrix Calculus You Need For Deep Learning\\nAuthors: Terence Parr, Jeremy Howard\\nSummary: This paper is an attempt to explain all the matrix calculus you need in order\\nto understand the training of deep neural networks. We assume no math knowledge\\nbeyond what you learned in calculus 1, and provide links to help you refresh\\nthe necessary math where needed. Note that you do not need to understand this\\nmaterial before you start learning to train and use deep learning'"
      ]
     },
     "execution_count": 6,
     "metadata": {},
     "output_type": "execute_result"
    }
   ],
   "source": [
    "arxiv.invoke(\"what is a attention all you need\")"
   ]
  },
  {
   "cell_type": "code",
   "execution_count": 7,
   "id": "28f309ac",
   "metadata": {},
   "outputs": [],
   "source": [
    "api_wrapper_wici=WikipediaAPIWrapper(top_k_results=2,doc_content_chars_max=500)"
   ]
  },
  {
   "cell_type": "code",
   "execution_count": 8,
   "id": "e4db02db",
   "metadata": {},
   "outputs": [],
   "source": [
    "wici=WikipediaQueryRun(api_wrapper=api_wrapper_wici)"
   ]
  },
  {
   "cell_type": "code",
   "execution_count": 9,
   "id": "a09f3101",
   "metadata": {},
   "outputs": [
    {
     "data": {
      "text/plain": [
       "WikipediaQueryRun(api_wrapper=WikipediaAPIWrapper(wiki_client=<module 'wikipedia' from 'c:\\\\Users\\\\acer\\\\anacondasomu\\\\envs\\\\langgraphx\\\\Lib\\\\site-packages\\\\wikipedia\\\\__init__.py'>, top_k_results=2, lang='en', load_all_available_meta=False, doc_content_chars_max=500))"
      ]
     },
     "execution_count": 9,
     "metadata": {},
     "output_type": "execute_result"
    }
   ],
   "source": [
    "wici"
   ]
  },
  {
   "cell_type": "code",
   "execution_count": 10,
   "id": "a5187672",
   "metadata": {},
   "outputs": [
    {
     "data": {
      "text/plain": [
       "'Page: Standard ML\\nSummary: Standard ML (SML) is a general-purpose, high-level, modular, functional programming language with compile-time type checking and type inference. It is popular for writing compilers, for programming language research, and for developing theorem provers.\\nStandard ML is a modern dialect of ML, the language used in the Logic for Computable Functions (LCF) theorem-proving project. It is distinctive among widely used languages in that it has a formal specification, given as '"
      ]
     },
     "execution_count": 10,
     "metadata": {},
     "output_type": "execute_result"
    }
   ],
   "source": [
    "wici.invoke(\"what is ml\")"
   ]
  },
  {
   "cell_type": "code",
   "execution_count": 11,
   "id": "a87f4fdb",
   "metadata": {},
   "outputs": [
    {
     "name": "stderr",
     "output_type": "stream",
     "text": [
      "C:\\Users\\acer\\AppData\\Local\\Temp\\ipykernel_33420\\568237837.py:2: LangChainDeprecationWarning: The class `TavilySearchResults` was deprecated in LangChain 0.3.25 and will be removed in 1.0. An updated version of the class exists in the :class:`~langchain-tavily package and should be used instead. To use it run `pip install -U :class:`~langchain-tavily` and import as `from :class:`~langchain_tavily import TavilySearch``.\n",
      "  tool=TavilySearchResults()\n"
     ]
    }
   ],
   "source": [
    "from langchain_community.tools.tavily_search import TavilySearchResults\n",
    "tool=TavilySearchResults()"
   ]
  },
  {
   "cell_type": "code",
   "execution_count": 12,
   "id": "46aeb909",
   "metadata": {},
   "outputs": [
    {
     "data": {
      "text/plain": [
       "[{'title': 'India Open Hackathon',\n",
       "  'url': 'https://www.openhackathons.org/s/siteevent/a0CUP00001FSe3d2AD/se000392',\n",
       "  'content': 'India Open Hackathon. September 18-26, 2025. Application Deadline: August 19, 2025. Hybrid Event. Event Overview. Together with NVIDIA and OpenACC organization',\n",
       "  'score': 0.986},\n",
       " {'title': 'All Hackathons - Reskill',\n",
       "  'url': 'https://reskilll.com/allhacks',\n",
       "  'content': 'AINNOVATION_II —2025 · 2025-08-19 · 2025-08-25 ; Innoquest 2025 · 2025-08-04 · 2025-08-25 ; HERE India Hackathon: Women in Tech · 2025-08-04 · 2025-09-30 ; TroubleShoot',\n",
       "  'score': 0.98568},\n",
       " {'title': '2540 Hackathons - Explore Key Challenges - Unstop',\n",
       "  'url': 'https://unstop.com/hackathons',\n",
       "  'content': 'Frontend With GenAI · InnoTech 2025 · HackRobo 1.0 · HackVriksh 2025 - Code.Create.Cultivate · The Empathy Encryption Hackathon · Aditya Birla Group Stratos 2025.',\n",
       "  'score': 0.98292},\n",
       " {'title': 'Odoo Hackathon 2025',\n",
       "  'url': 'https://www.odoo.com/event/odoo-hackathon-2025-7644/register',\n",
       "  'content': '... 11 August 2025. Are you ready to prove your coding skills? Register now and compete in the ultimate coding showdown at Hackathon; where logic meets execution!',\n",
       "  'score': 0.98258},\n",
       " {'title': 'Goldman Sachs India Hackathon 2025',\n",
       "  'url': 'https://www.goldmansachs.com/careers/students/programs-and-internships/india/hackathon',\n",
       "  'content': 'Goldman Sachs India Hackathon 2025 · Registrations Open: April 21, 2025 · Last Date to Apply: May 4, 2025 · Hackathon Dates: May 17 (Quant) | May 18, 2025 (CS)',\n",
       "  'score': 0.97814}]"
      ]
     },
     "execution_count": 12,
     "metadata": {},
     "output_type": "execute_result"
    }
   ],
   "source": [
    "tool.invoke(\"give me recent in aguest open hackthine list in india\")"
   ]
  },
  {
   "cell_type": "code",
   "execution_count": 13,
   "id": "e78dc15f",
   "metadata": {},
   "outputs": [],
   "source": [
    "tools=[arxiv,wici,tool]"
   ]
  },
  {
   "cell_type": "code",
   "execution_count": 14,
   "id": "6341989b",
   "metadata": {},
   "outputs": [],
   "source": [
    "llm_with_tool=llm.bind_tools(tools)"
   ]
  },
  {
   "cell_type": "code",
   "execution_count": null,
   "id": "4e1680a6",
   "metadata": {},
   "outputs": [
    {
     "data": {
      "text/plain": [
       "AIMessage(content='', additional_kwargs={'tool_calls': [{'id': 'rkxh4c3y1', 'function': {'arguments': '{\"query\":\"who won the test match india vs england\"}', 'name': 'tavily_search_results_json'}, 'type': 'function'}]}, response_metadata={'token_usage': {'completion_tokens': 94, 'prompt_tokens': 1289, 'total_tokens': 1383, 'completion_time': 0.170909091, 'prompt_time': 0.024635928, 'queue_time': 0.256333813, 'total_time': 0.195545019}, 'model_name': 'gemma2-9b-it', 'system_fingerprint': 'fp_10c08bf97d', 'service_tier': 'on_demand', 'finish_reason': 'tool_calls', 'logprobs': None}, id='run--76b60f44-8cfc-48cf-b63d-a285d28c6f27-0', tool_calls=[{'name': 'tavily_search_results_json', 'args': {'query': 'who won the test match india vs england'}, 'id': 'rkxh4c3y1', 'type': 'tool_call'}], usage_metadata={'input_tokens': 1289, 'output_tokens': 94, 'total_tokens': 1383})"
      ]
     },
     "execution_count": 18,
     "metadata": {},
     "output_type": "execute_result"
    }
   ],
   "source": [
    "from langchain_core.messages import HumanMessage\n",
    "llm_with_tool.invoke(\"who is win test match ind vs eng test\")"
   ]
  },
  {
   "cell_type": "code",
   "execution_count": 19,
   "id": "cfd3c5ba",
   "metadata": {},
   "outputs": [],
   "source": [
    "from langgraph.graph import StateGraph,START,END\n",
    "from typing import TypedDict,List\n",
    "from langgraph.graph.message import add_messages\n",
    "from langchain_core.messages import AnyMessage\n",
    "from typing import Annotated\n",
    "from langgraph.prebuilt import ToolNode\n",
    "from langgraph.prebuilt import tools_condition"
   ]
  },
  {
   "cell_type": "code",
   "execution_count": 31,
   "id": "33873630",
   "metadata": {},
   "outputs": [],
   "source": [
    "class state(TypedDict):\n",
    "    messages:Annotated[List[AnyMessage],add_messages]\n",
    "\n",
    "def chatbot(state:state):\n",
    "    return{'messages':[llm_with_tool.invoke(state['messages'])]}\n"
   ]
  },
  {
   "cell_type": "code",
   "execution_count": 32,
   "id": "d7936d5b",
   "metadata": {},
   "outputs": [],
   "source": [
    "graph=StateGraph(state)\n",
    "graph.add_node('chatbot',chatbot)\n",
    "graph.add_node('tools',ToolNode(tools))\n",
    "graph.add_edge(START,'chatbot')\n",
    "graph.add_conditional_edges(\n",
    "    'chatbot',\n",
    "    tools_condition\n",
    ")\n",
    "graph.add_edge('tools',END)\n",
    "workflow=graph.compile()"
   ]
  },
  {
   "cell_type": "code",
   "execution_count": 33,
   "id": "d6667b14",
   "metadata": {},
   "outputs": [
    {
     "data": {
      "image/png": "[encoded data removed]",
      "text/plain": [
       "<langgraph.graph.state.CompiledStateGraph object at 0x00000253A98D27B0>"
      ]
     },
     "execution_count": 33,
     "metadata": {},
     "output_type": "execute_result"
    }
   ],
   "source": [
    "workflow"
   ]
  },
  {
   "cell_type": "code",
   "execution_count": 34,
   "id": "344c3a84",
   "metadata": {},
   "outputs": [
    {
     "data": {
      "text/plain": [
       "{'messages': [HumanMessage(content='who is win test match ind vs eng test', additional_kwargs={}, response_metadata={}, id='3f61b39b-4cf4-4e07-a096-ff05832ff767'),\n",
       "  AIMessage(content='', additional_kwargs={'tool_calls': [{'id': 'wpftwqrxm', 'function': {'arguments': '{\"query\":\"who won the india vs england test match\"}', 'name': 'tavily_search_results_json'}, 'type': 'function'}]}, response_metadata={'token_usage': {'completion_tokens': 94, 'prompt_tokens': 1289, 'total_tokens': 1383, 'completion_time': 0.170909091, 'prompt_time': 0.024453232, 'queue_time': 0.247740567, 'total_time': 0.195362323}, 'model_name': 'gemma2-9b-it', 'system_fingerprint': 'fp_10c08bf97d', 'service_tier': 'on_demand', 'finish_reason': 'tool_calls', 'logprobs': None}, id='run--6f715cd1-7325-458c-9a1d-eff7ae5acb27-0', tool_calls=[{'name': 'tavily_search_results_json', 'args': {'query': 'who won the india vs england test match'}, 'id': 'wpftwqrxm', 'type': 'tool_call'}], usage_metadata={'input_tokens': 1289, 'output_tokens': 94, 'total_tokens': 1383}),\n",
       "  ToolMessage(content='[{\"title\": \"Relive India beating England by six runs in incredible fifth ...\", \"url\": \"https://www.bbc.com/sport/cricket/live/cz015n5kg03t\", \"content\": \"Thu 31 Jul 2025 - Mon 4 Aug 2025,Men\\'s International Test Match Series - 5th Test - Day 5 of 5\\\\n\\\\nEngland vs India, result\\\\n\\\\nEngland\\\\n\\\\nEngland\\\\n\\\\nResult\\\\n\\\\nIndia\\\\n\\\\nIndia\\\\n\\\\n247 all out(51.2)\\\\n\\\\n367 all out(85.1)\\\\n\\\\n224 all out(69.4)\\\\n\\\\n396 all out(88.0)\\\\n\\\\nIndia win by 6 runs\\\\n\\\\nEngland innings:\\\\n1.   247 all out from 51.2 overs\\\\n2.   367 all out from 85.1 overs\\\\n\\\\nIndia innings:\\\\n1.   224 all out from 69.4 overs\\\\n2.   396 all out from 88.0 overs\\\\n\\\\n   Live Reporting (active)\\\\n   Scorecard\\\\n\\\\nSummary\\\\n------- [...] Media caption, Tongue bowled for 0 to put India on the verge of victory  \\\\nEngland head coach Brendon McCullum, speaking to Test Match Special:\\\\\"Not just an incredible hour - right throughout this Test match, it has been one of the all-time best Test matches.\\\\n\\\\n\\\\\"We turned up today with high hopes, but Mohammed Siraj and the passion of the Indian boys was too strong and ultimately they deserve to win this Test match. [...] India win fifth Test by six runs to force 2-2 series draw\\\\n\\\\n   England lose four wickets for 28 runs on day five to suffer defeat\\\\n\\\\n   Woakes came out to bat in shoulder sling but did not face ball\\\\n\\\\n   Listen to BBC Radio 5 Sports Extra reaction at top of page or overseas here, external\\\\n\\\\nLive Reporting\\\\n--------------\\\\n\\\\nMatthew Henry\\\\n\\\\n1.   ### India win all-time classic to draw series published at 13:01 British Summer Time 4 August 13:01 BST 4 August\", \"score\": 0.8443195}, {\"title\": \"ENG vs IND Cricket Scorecard, 1st Test at Leeds, June 20 - 24, 2025\", \"url\": \"https://www.espncricinfo.com/series/india-in-england-2025-1445348/england-vs-india-1st-test-1448349/full-scorecard\", \"content\": \"Live Scores\\\\n\\\\nSeries\\\\n\\\\nTeams\\\\n\\\\nNews\\\\n\\\\nFeatures\\\\n\\\\nVideos\\\\n\\\\nStats\\\\n\\\\nEdition GL\\\\n\\\\nEngland vs India, 1st Test at Leeds, ENG vs IND, Jun 20 2025 - Full Scorecard\\\\n=============================================================================\\\\n\\\\nRESULT\\\\n\\\\n1st Test, Leeds, June 20 - 24, 2025, India tour of England\\\\n\\\\nPrev\\\\n\\\\nNext\\\\n\\\\nImage 68: IND FlagIND\\\\n\\\\n471&364\\\\n\\\\nImage 69: ENG FlagENG\\\\n\\\\n(T:371) 465&373/5\\\\n\\\\nEngland won by 5 wickets\\\\n\\\\nPlayer Of The Match\\\\n\\\\nBen Duckett\\\\n\\\\n, ENG\\\\n\\\\n62 & 149\\\\n\\\\nImage 70: ben-duckett Image 71\\\\n\\\\nSummary [...] RESULT•6th Match• T20• Kunduz Image 43: IDN-W Flag HIS 176/8 Image 44: IDN-W Flag PAL (15/20 ov, T:177) 82 Hindukush won by 94 runsScheduleTableSeries\\\\n\\\\nRESULT•13th Match•INTER-PRO T20• T20• Bready Image 45: IDN-W Flag NWW 186/7 Image 46: IDN-W Flag REDS (20 ov, T:187) 129 NW Warriors won by 57 runsScheduleTableSeries [...] RESULT•Group B•MCLOT• List A• Colombo (Moors) Image 39: IDN-W Flag MOORS 249/9 Image 40: IDN-W Flag COLT (47.4/50 ov, T:250) 250/3 Colts CC won by 7 wickets (with 14 balls remaining)ScheduleTableSeries\\\\n\\\\nRESULT•Group B•MCLOT• List A• Colombo (Colts) Image 41: IDN-W Flag BLOOM 271/9 Image 42: IDN-W Flag KYCC (37.4/50 ov, T:272) 152 Bloomfield won by 119 runsScheduleTableSeries\", \"score\": 0.81489426}, {\"title\": \"India win all-time classic despite Woakes heroics\", \"url\": \"https://www.bbc.com/sport/cricket/articles/cx279ylegeyo\", \"content\": \"England were denied a record-breaking run chase by an irresistible India, who snatched victory by six runs in one of the most dramatic conclusions in Test cricket history.\\\\n\\\\nIn scenes that will go down in British sporting folklore, Chris Woakes came out to bat with his arm in a sling to support Gus Atkinson when England needed 17 to reach their target of 374.\\\\n\\\\nWoakes was given a hero\\'s welcome, then stood at the non-striker\\'s end as Atkinson attempted to swipe England to victory. [...] It is a superb win for India, who deserve their 2-2 draw. They played this decisive Test without all of Rishabh Pant, Jasprit Bumrah and Nitish Kumar Reddy. This series may well be looked back on as the birth of a new team under Gill, who was prolific with the bat.\\\\n\\\\nEngland were without injured captain Stokes, then had to deal with the injury sustained by Woakes on day one. The home side had a patched up pace attack and first-choice spinner Shoaib Bashir is out with a broken finger. [...] At various stages, Bashir bowled with a broken finger, Pant batted with a broken foot and Woakes batted with his dislocated shoulder. Neither team took a backward step and there were a number of flashpoint confrontations.\\\\n\\\\nBy the end, England missed out on a first series win against India since 2018 and their first win against any team in a five-Test series in the same time period.\", \"score\": 0.7917732}, {\"title\": \"India tour of England 2025 - Fixtures & Results\", \"url\": \"https://www.espncricinfo.com/series/india-in-england-2025-1445348/match-schedule-fixtures-and-results\", \"content\": \"India tour of England 2025 Schedule & Results\\\\n=============================================\\\\n\\\\nTeams\\\\n\\\\nGrounds\\\\n\\\\nFri, 20 Jun \\'25\\\\n\\\\nRESULT• 1st Test •Leeds, June 20 - 24, 2025, [India tour of England Image 38: India Flag IND 471&364 Image 39: England Flag ENG (T:371) 465&373/5 England won by 5 wickets](\\\\n\\\\nReport\\\\n\\\\nPhotos\\\\n\\\\nVideos\\\\n\\\\nWed, 02 Jul \\'25 [...] RESULT• 2nd Test •Birmingham, July 02 - 06, 2025, [India tour of England Image 40: India Flag IND 587&427/6d Image 41: England Flag ENG (T:608) 407&271 India won by 336 runs](\\\\n\\\\nReport\\\\n\\\\nPhotos\\\\n\\\\nVideos\\\\n\\\\nThu, 10 Jul \\'25\\\\n\\\\nRESULT• 3rd Test •Lord\\'s, July 10 - 14, 2025, [India tour of England Image 42: England Flag ENG 387&192 Image 43: India Flag IND (T:193) 387&170 England won by 22 runs](\\\\n\\\\nReport\\\\n\\\\nPhotos\\\\n\\\\nVideos\\\\n\\\\nWed, 23 Jul \\'25 [...] RESULT•39th Match•County DIV2• FC• Derby Image 23: Australia Flag LEI 398&236/9d Image 24: Australia Flag DER (T:446) 189&256 Leics won by 189 runsScheduleTableReportSeries\\\\n\\\\nRESULT•40th Match•County DIV2• FC• Cheltenham Image 25: Australia Flag LAN (T:110) 557&111/1 Image 26: Australia Flag GLO (fo) 381&285 Lancashire won by 9 wicketsScheduleTableReportSeries\", \"score\": 0.752468}, {\"title\": \"ENG vs IND Cricket Scorecard, 2nd Test at Birmingham, July 02\", \"url\": \"https://www.espncricinfo.com/series/india-in-england-2025-1445348/england-vs-india-2nd-test-1448350/full-scorecard\", \"content\": \"RESULT•21st Match•MLC• T20• Dallas Image 3: TSK Flag TSK 223/4 Image 4: MI NY Flag MI NY (20 ov, T:224) 184/9 Texas won by 39 runsScheduleTableReportSeries\\\\n\\\\nRESULT•2nd Youth ODI• Northampton Image 5: IND19 Flag IND19 290 Image 6: England Flag ENG19 (49.3/50 ov, T:291) 291/9 England U19 won by 1 wicket (with 3 balls remaining)ScheduleReportSeries [...] | Team | M | W | L | D | PT | PCT |\\\\n| --- | --- | --- | --- | --- | --- | --- |\\\\n| AUS | 1 | 1 | 0 | 0 | 12 | 100.00 |\\\\n| ENG | 1 | 1 | 0 | 0 | 12 | 100.00 |\\\\n| SL | 2 | 1 | 0 | 1 | 16 | 66.67 |\\\\n| BAN | 2 | 0 | 1 | 1 | 4 | 16.67 |\\\\n| IND | 1 | 0 | 1 | 0 | 0 | 0.00 |\\\\n| WI | 1 | 0 | 1 | 0 | 0 | 0.00 |\\\\n| NZ | - | - | - | - | - | - |\\\\n| PAK | - | - | - | - | - | - |\\\\n| SA | - | - | - | - | - | - |\\\\n\\\\nFull Table\\\\n\\\\nTerms of Use|Privacy Policy|EU Privacy Rights|Cookie Policy|Feedback [...] England vs India, 2nd Test at Birmingham, ENG vs IND, Jul 02 2025 - Live Scorecard\\\\n==================================================================================\\\\n\\\\n2nd Test, Birmingham, July 02 - 06, 2025, India tour of England\\\\n\\\\nPrevNext\\\\n\\\\nImage 52: England FlagEngland\\\\n\\\\nImage 53: India FlagIndia\\\\n\\\\nWed, 02 Jul\\\\n\\\\n10:00 AM\\\\n\\\\nMatch yet to begin\\\\n\\\\nSummary\\\\n\\\\nStats\\\\n\\\\nNews\\\\n\\\\nSquads\\\\n\\\\nTable\\\\n\\\\nVideos\\\\n\\\\nPhotos\\\\n\\\\nEngland Team\", \"score\": 0.63316137}]', name='tavily_search_results_json', id='6ff17cff-699b-4e89-90ee-3e1a0892f180', tool_call_id='wpftwqrxm', artifact={'query': 'who won the india vs england test match', 'follow_up_questions': None, 'answer': None, 'images': [], 'results': [{'url': 'https://www.bbc.com/sport/cricket/live/cz015n5kg03t', 'title': 'Relive India beating England by six runs in incredible fifth ...', 'content': 'Thu 31 Jul 2025 - Mon 4 Aug 2025,Men\\'s International Test Match Series - 5th Test - Day 5 of 5\\n\\nEngland vs India, result\\n\\nEngland\\n\\nEngland\\n\\nResult\\n\\nIndia\\n\\nIndia\\n\\n247 all out(51.2)\\n\\n367 all out(85.1)\\n\\n224 all out(69.4)\\n\\n396 all out(88.0)\\n\\nIndia win by 6 runs\\n\\nEngland innings:\\n1.   247 all out from 51.2 overs\\n2.   367 all out from 85.1 overs\\n\\nIndia innings:\\n1.   224 all out from 69.4 overs\\n2.   396 all out from 88.0 overs\\n\\n   Live Reporting (active)\\n   Scorecard\\n\\nSummary\\n------- [...] Media caption, Tongue bowled for 0 to put India on the verge of victory  \\nEngland head coach Brendon McCullum, speaking to Test Match Special:\"Not just an incredible hour - right throughout this Test match, it has been one of the all-time best Test matches.\\n\\n\"We turned up today with high hopes, but Mohammed Siraj and the passion of the Indian boys was too strong and ultimately they deserve to win this Test match. [...] India win fifth Test by six runs to force 2-2 series draw\\n\\n   England lose four wickets for 28 runs on day five to suffer defeat\\n\\n   Woakes came out to bat in shoulder sling but did not face ball\\n\\n   Listen to BBC Radio 5 Sports Extra reaction at top of page or overseas here, external\\n\\nLive Reporting\\n--------------\\n\\nMatthew Henry\\n\\n1.   ### India win all-time classic to draw series published at 13:01 British Summer Time 4 August 13:01 BST 4 August', 'score': 0.8443195, 'raw_content': None}, {'url': 'https://www.espncricinfo.com/series/india-in-england-2025-1445348/england-vs-india-1st-test-1448349/full-scorecard', 'title': 'ENG vs IND Cricket Scorecard, 1st Test at Leeds, June 20 - 24, 2025', 'content': 'Live Scores\\n\\nSeries\\n\\nTeams\\n\\nNews\\n\\nFeatures\\n\\nVideos\\n\\nStats\\n\\nEdition GL\\n\\nEngland vs India, 1st Test at Leeds, ENG vs IND, Jun 20 2025 - Full Scorecard\\n=============================================================================\\n\\nRESULT\\n\\n1st Test, Leeds, June 20 - 24, 2025, India tour of England\\n\\nPrev\\n\\nNext\\n\\nImage 68: IND FlagIND\\n\\n471&364\\n\\nImage 69: ENG FlagENG\\n\\n(T:371) 465&373/5\\n\\nEngland won by 5 wickets\\n\\nPlayer Of The Match\\n\\nBen Duckett\\n\\n, ENG\\n\\n62 & 149\\n\\nImage 70: ben-duckett Image 71\\n\\nSummary [...] RESULT•6th Match• T20• Kunduz Image 43: IDN-W Flag HIS 176/8 Image 44: IDN-W Flag PAL (15/20 ov, T:177) 82 Hindukush won by 94 runsScheduleTableSeries\\n\\nRESULT•13th Match•INTER-PRO T20• T20• Bready Image 45: IDN-W Flag NWW 186/7 Image 46: IDN-W Flag REDS (20 ov, T:187) 129 NW Warriors won by 57 runsScheduleTableSeries [...] RESULT•Group B•MCLOT• List A• Colombo (Moors) Image 39: IDN-W Flag MOORS 249/9 Image 40: IDN-W Flag COLT (47.4/50 ov, T:250) 250/3 Colts CC won by 7 wickets (with 14 balls remaining)ScheduleTableSeries\\n\\nRESULT•Group B•MCLOT• List A• Colombo (Colts) Image 41: IDN-W Flag BLOOM 271/9 Image 42: IDN-W Flag KYCC (37.4/50 ov, T:272) 152 Bloomfield won by 119 runsScheduleTableSeries', 'score': 0.81489426, 'raw_content': None}, {'url': 'https://www.bbc.com/sport/cricket/articles/cx279ylegeyo', 'title': 'India win all-time classic despite Woakes heroics', 'content': \"England were denied a record-breaking run chase by an irresistible India, who snatched victory by six runs in one of the most dramatic conclusions in Test cricket history.\\n\\nIn scenes that will go down in British sporting folklore, Chris Woakes came out to bat with his arm in a sling to support Gus Atkinson when England needed 17 to reach their target of 374.\\n\\nWoakes was given a hero's welcome, then stood at the non-striker's end as Atkinson attempted to swipe England to victory. [...] It is a superb win for India, who deserve their 2-2 draw. They played this decisive Test without all of Rishabh Pant, Jasprit Bumrah and Nitish Kumar Reddy. This series may well be looked back on as the birth of a new team under Gill, who was prolific with the bat.\\n\\nEngland were without injured captain Stokes, then had to deal with the injury sustained by Woakes on day one. The home side had a patched up pace attack and first-choice spinner Shoaib Bashir is out with a broken finger. [...] At various stages, Bashir bowled with a broken finger, Pant batted with a broken foot and Woakes batted with his dislocated shoulder. Neither team took a backward step and there were a number of flashpoint confrontations.\\n\\nBy the end, England missed out on a first series win against India since 2018 and their first win against any team in a five-Test series in the same time period.\", 'score': 0.7917732, 'raw_content': None}, {'url': 'https://www.espncricinfo.com/series/india-in-england-2025-1445348/match-schedule-fixtures-and-results', 'title': 'India tour of England 2025 - Fixtures & Results', 'content': \"India tour of England 2025 Schedule & Results\\n=============================================\\n\\nTeams\\n\\nGrounds\\n\\nFri, 20 Jun '25\\n\\nRESULT• 1st Test •Leeds, June 20 - 24, 2025, [India tour of England Image 38: India Flag IND 471&364 Image 39: England Flag ENG (T:371) 465&373/5 England won by 5 wickets](\\n\\nReport\\n\\nPhotos\\n\\nVideos\\n\\nWed, 02 Jul '25 [...] RESULT• 2nd Test •Birmingham, July 02 - 06, 2025, [India tour of England Image 40: India Flag IND 587&427/6d Image 41: England Flag ENG (T:608) 407&271 India won by 336 runs](\\n\\nReport\\n\\nPhotos\\n\\nVideos\\n\\nThu, 10 Jul '25\\n\\nRESULT• 3rd Test •Lord's, July 10 - 14, 2025, [India tour of England Image 42: England Flag ENG 387&192 Image 43: India Flag IND (T:193) 387&170 England won by 22 runs](\\n\\nReport\\n\\nPhotos\\n\\nVideos\\n\\nWed, 23 Jul '25 [...] RESULT•39th Match•County DIV2• FC• Derby Image 23: Australia Flag LEI 398&236/9d Image 24: Australia Flag DER (T:446) 189&256 Leics won by 189 runsScheduleTableReportSeries\\n\\nRESULT•40th Match•County DIV2• FC• Cheltenham Image 25: Australia Flag LAN (T:110) 557&111/1 Image 26: Australia Flag GLO (fo) 381&285 Lancashire won by 9 wicketsScheduleTableReportSeries\", 'score': 0.752468, 'raw_content': None}, {'url': 'https://www.espncricinfo.com/series/india-in-england-2025-1445348/england-vs-india-2nd-test-1448350/full-scorecard', 'title': 'ENG vs IND Cricket Scorecard, 2nd Test at Birmingham, July 02', 'content': 'RESULT•21st Match•MLC• T20• Dallas Image 3: TSK Flag TSK 223/4 Image 4: MI NY Flag MI NY (20 ov, T:224) 184/9 Texas won by 39 runsScheduleTableReportSeries\\n\\nRESULT•2nd Youth ODI• Northampton Image 5: IND19 Flag IND19 290 Image 6: England Flag ENG19 (49.3/50 ov, T:291) 291/9 England U19 won by 1 wicket (with 3 balls remaining)ScheduleReportSeries [...] | Team | M | W | L | D | PT | PCT |\\n| --- | --- | --- | --- | --- | --- | --- |\\n| AUS | 1 | 1 | 0 | 0 | 12 | 100.00 |\\n| ENG | 1 | 1 | 0 | 0 | 12 | 100.00 |\\n| SL | 2 | 1 | 0 | 1 | 16 | 66.67 |\\n| BAN | 2 | 0 | 1 | 1 | 4 | 16.67 |\\n| IND | 1 | 0 | 1 | 0 | 0 | 0.00 |\\n| WI | 1 | 0 | 1 | 0 | 0 | 0.00 |\\n| NZ | - | - | - | - | - | - |\\n| PAK | - | - | - | - | - | - |\\n| SA | - | - | - | - | - | - |\\n\\nFull Table\\n\\nTerms of Use|Privacy Policy|EU Privacy Rights|Cookie Policy|Feedback [...] England vs India, 2nd Test at Birmingham, ENG vs IND, Jul 02 2025 - Live Scorecard\\n==================================================================================\\n\\n2nd Test, Birmingham, July 02 - 06, 2025, India tour of England\\n\\nPrevNext\\n\\nImage 52: England FlagEngland\\n\\nImage 53: India FlagIndia\\n\\nWed, 02 Jul\\n\\n10:00 AM\\n\\nMatch yet to begin\\n\\nSummary\\n\\nStats\\n\\nNews\\n\\nSquads\\n\\nTable\\n\\nVideos\\n\\nPhotos\\n\\nEngland Team', 'score': 0.63316137, 'raw_content': None}], 'response_time': 4.34})]}"
      ]
     },
     "execution_count": 34,
     "metadata": {},
     "output_type": "execute_result"
    }
   ],
   "source": [
    "workflow.invoke({'messages':'who is win test match ind vs eng test'})"
   ]
  },
  {
   "cell_type": "code",
   "execution_count": null,
   "id": "245bba9f",
   "metadata": {},
   "outputs": [],
   "source": []
  },
  {
   "cell_type": "code",
   "execution_count": null,
   "id": "e0411b5d",
   "metadata": {},
   "outputs": [],
   "source": []
  }
 ],
 "metadata": {
  "kernelspec": {
   "display_name": "langgraphx",
   "language": "python",
   "name": "python3"
  },
  "language_info": {
   "codemirror_mode": {
    "name": "ipython",
    "version": 3
   },
   "file_extension": ".py",
   "mimetype": "text/x-python",
   "name": "python",
   "nbconvert_exporter": "python",
   "pygments_lexer": "ipython3",
   "version": "3.12.0"
  }
 },
 "nbformat": 4,
 "nbformat_minor": 5
}
