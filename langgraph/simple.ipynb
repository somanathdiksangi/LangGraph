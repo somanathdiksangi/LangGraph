{
 "cells": [
  {
   "cell_type": "code",
   "execution_count": null,
   "id": "20d1465a",
   "metadata": {},
   "outputs": [],
   "source": [
    "import os\n",
    "from dotenv import load_dotenv\n",
    "\n",
    "load_dotenv()\n",
    "os.environ[\"GROQ_API_KEY\"]=os.getenv(\"GROQ_API_KEY\")\n",
    "from langchain_groq import ChatGroq\n",
    "llm=ChatGroq(model=\"gemma2-9b-it\")\n",
    "llm"
   ]
  },
  {
   "cell_type": "code",
   "execution_count": 3,
   "id": "02568903",
   "metadata": {},
   "outputs": [
    {
     "data": {
      "text/plain": [
       "ChatGroq(client=<groq.resources.chat.completions.Completions object at 0x0000019F15714290>, async_client=<groq.resources.chat.completions.AsyncCompletions object at 0x0000019F1582FB30>, model_name='gemma2-9b-it', model_kwargs={}, groq_api_key=SecretStr('**********'))"
      ]
     },
     "execution_count": 3,
     "metadata": {},
     "output_type": "execute_result"
    }
   ],
   "source": [
    "from langchain_groq import ChatGroq\n",
    "llm=ChatGroq(model=\"gemma2-9b-it\")\n",
    "llm"
   ]
  },
  {
   "cell_type": "code",
   "execution_count": 4,
   "id": "d7c12bbc",
   "metadata": {},
   "outputs": [],
   "source": [
    "from typing_extensions import TypedDict\n",
    "class state(TypedDict):\n",
    "    graph_state:str\n",
    "\n"
   ]
  },
  {
   "cell_type": "code",
   "execution_count": 5,
   "id": "13a45565",
   "metadata": {},
   "outputs": [],
   "source": [
    "def first_node(state):\n",
    "    print(\"i am in first node\")\n",
    "    return {\"graph_state\":state[\"graph_state\"]+\" i am playing\"}\n",
    "def second_node(state):\n",
    "    print(\"i am in second node\")\n",
    "    return {\"graph_state\":state[\"graph_state\"]+\" cricket\"}\n",
    "def third_node(state):\n",
    "    print(\"i am in first node\")\n",
    "    return {\"graph_state\":state[\"graph_state\"]+\"Badminton\"}\n",
    "\n",
    "\n"
   ]
  },
  {
   "cell_type": "code",
   "execution_count": 6,
   "id": "ef84411b",
   "metadata": {},
   "outputs": [],
   "source": [
    "import random\n",
    "from typing import Literal\n",
    "def dcide_play(state)->Literal[\"second_node\",\"third_node\"]:\n",
    "    graph_state=state['graph_state']\n",
    "\n",
    "    if random.random()<0.5:\n",
    "        return \"second_node\"\n",
    "    return \"third_node\""
   ]
  },
  {
   "cell_type": "code",
   "execution_count": 7,
   "id": "951f6c93",
   "metadata": {},
   "outputs": [],
   "source": [
    "from langgraph.graph import StateGraph , START,END\n",
    "graph=StateGraph(state)\n",
    "graph.add_node(\"first_node\",first_node)\n",
    "graph.add_node(\"second_node\",second_node)\n",
    "graph.add_node(\"third_node\",third_node)\n",
    "\n",
    "graph.add_edge(START,'first_node')\n",
    "graph.add_conditional_edges(\"first_node\",dcide_play)\n",
    "graph.add_edge('second_node',END)\n",
    "graph.add_edge('third_node',END)\n",
    "\n",
    "\n",
    "workflow=graph.compile()\n"
   ]
  },
  {
   "cell_type": "code",
   "execution_count": 8,
   "id": "e1257ad3",
   "metadata": {},
   "outputs": [
    {
     "data": {
      "image/png": "[encoded data removed]",
      "text/plain": [
       "<langgraph.graph.state.CompiledStateGraph object at 0x0000019F1585A9C0>"
      ]
     },
     "execution_count": 8,
     "metadata": {},
     "output_type": "execute_result"
    }
   ],
   "source": [
    "workflow"
   ]
  },
  {
   "cell_type": "code",
   "execution_count": 9,
   "id": "49c3d2d1",
   "metadata": {},
   "outputs": [],
   "source": [
    "# workflow.invoke({\"graph_state\":\"hii i am somu\"})"
   ]
  },
  {
   "cell_type": "code",
   "execution_count": 10,
   "id": "dc8093cd",
   "metadata": {},
   "outputs": [],
   "source": [
    "from typing import Annotated\n",
    "from langgraph.graph.message import add_messages\n"
   ]
  },
  {
   "cell_type": "code",
   "execution_count": 21,
   "id": "fd40c919",
   "metadata": {},
   "outputs": [],
   "source": [
    "class State(TypedDict):\n",
    "    messages:Annotated[list,add_messages]"
   ]
  },
  {
   "cell_type": "code",
   "execution_count": 32,
   "id": "6fc48b53",
   "metadata": {},
   "outputs": [],
   "source": [
    "graph1=StateGraph(State)"
   ]
  },
  {
   "cell_type": "code",
   "execution_count": 33,
   "id": "c37fa158",
   "metadata": {},
   "outputs": [],
   "source": [
    "def chatbot2(state:State):\n",
    "    return{'messages':[llm.invoke(state['messages'])]}\n"
   ]
  },
  {
   "cell_type": "code",
   "execution_count": 34,
   "id": "5fbc1298",
   "metadata": {},
   "outputs": [],
   "source": [
    "graph1.add_node('chatbot1',chatbot2)\n",
    "graph1.add_edge(START,'chatbot1')\n",
    "graph1.add_edge('chatbot1',END)\n",
    "workflow=graph1.compile()"
   ]
  },
  {
   "cell_type": "code",
   "execution_count": 35,
   "id": "ffb877ba",
   "metadata": {},
   "outputs": [
    {
     "data": {
      "image/png": "[encoded data removed]",
      "text/plain": [
       "<langgraph.graph.state.CompiledStateGraph object at 0x0000019F16ACA540>"
      ]
     },
     "execution_count": 35,
     "metadata": {},
     "output_type": "execute_result"
    }
   ],
   "source": [
    "workflow"
   ]
  },
  {
   "cell_type": "code",
   "execution_count": 38,
   "id": "10848b65",
   "metadata": {},
   "outputs": [
    {
     "data": {
      "text/plain": [
       "<generator object Pregel.stream at 0x0000019F169F49A0>"
      ]
     },
     "execution_count": 38,
     "metadata": {},
     "output_type": "execute_result"
    }
   ],
   "source": [
    "workflow.stream({'messages':'my name is somu'})"
   ]
  },
  {
   "cell_type": "code",
   "execution_count": null,
   "id": "856c46ad",
   "metadata": {},
   "outputs": [],
   "source": []
  }
 ],
 "metadata": {
  "kernelspec": {
   "display_name": "langgraphx",
   "language": "python",
   "name": "python3"
  },
  "language_info": {
   "codemirror_mode": {
    "name": "ipython",
    "version": 3
   },
   "file_extension": ".py",
   "mimetype": "text/x-python",
   "name": "python",
   "nbconvert_exporter": "python",
   "pygments_lexer": "ipython3",
   "version": "3.12.0"
  }
 },
 "nbformat": 4,
 "nbformat_minor": 5
}
