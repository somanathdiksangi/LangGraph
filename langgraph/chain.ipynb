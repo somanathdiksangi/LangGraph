{
 "cells": [
  {
   "cell_type": "code",
   "execution_count": 1,
   "id": "1d03194e",
   "metadata": {},
   "outputs": [
    {
     "data": {
      "text/plain": [
       "ChatGroq(client=<groq.resources.chat.completions.Completions object at 0x000001E61B242750>, async_client=<groq.resources.chat.completions.AsyncCompletions object at 0x000001E61C35A090>, model_name='gemma2-9b-it', model_kwargs={}, groq_api_key=SecretStr('**********'))"
      ]
     },
     "execution_count": 1,
     "metadata": {},
     "output_type": "execute_result"
    }
   ],
   "source": [
    "import os\n",
    "from dotenv import load_dotenv\n",
    "from typing import TypedDict , Annotated\n",
    "from langgraph.graph.message import add_messages\n",
    "from langgraph.graph import StateGraph ,START,END\n",
    "\n",
    "\n",
    "\n",
    "load_dotenv()\n",
    "os.environ[\"GROQ_API_KEY\"]=os.getenv(\"GROQ_API_KEY\")\n",
    "from langchain_groq import ChatGroq\n",
    "llm=ChatGroq(model=\"gemma2-9b-it\")\n",
    "llm"
   ]
  },
  {
   "cell_type": "code",
   "execution_count": 2,
   "id": "6c66d18d",
   "metadata": {},
   "outputs": [],
   "source": [
    "def add(a:int,b:int)->int:\n",
    "    return a+b "
   ]
  },
  {
   "cell_type": "code",
   "execution_count": 3,
   "id": "7f53172c",
   "metadata": {},
   "outputs": [],
   "source": [
    "llm_with_tool=llm.bind_tools([add])"
   ]
  },
  {
   "cell_type": "code",
   "execution_count": 4,
   "id": "29174075",
   "metadata": {},
   "outputs": [],
   "source": [
    "from langchain_core.messages import HumanMessage , AIMessage ,AnyMessage\n",
    "result=llm_with_tool.invoke(\"what is 2 plus 3\")"
   ]
  },
  {
   "cell_type": "code",
   "execution_count": 5,
   "id": "b696e561",
   "metadata": {},
   "outputs": [
    {
     "data": {
      "text/plain": [
       "[{'name': 'add',\n",
       "  'args': {'a': 2, 'b': 3},\n",
       "  'id': 'je4jkeq9m',\n",
       "  'type': 'tool_call'}]"
      ]
     },
     "execution_count": 5,
     "metadata": {},
     "output_type": "execute_result"
    }
   ],
   "source": [
    "result.tool_calls"
   ]
  },
  {
   "cell_type": "code",
   "execution_count": 6,
   "id": "7344448c",
   "metadata": {},
   "outputs": [],
   "source": [
    "class State(TypedDict):\n",
    "    messages:Annotated[list[AnyMessage],add_messages]"
   ]
  },
  {
   "cell_type": "code",
   "execution_count": 7,
   "id": "d0d670ff",
   "metadata": {},
   "outputs": [],
   "source": [
    "def chatbot(state:State):\n",
    "    \n",
    "    return{'messages':[llm_with_tool.invoke(state['messages'])]}"
   ]
  },
  {
   "cell_type": "code",
   "execution_count": 8,
   "id": "d5c98cf3",
   "metadata": {},
   "outputs": [],
   "source": [
    "graph=StateGraph(State)\n",
    "graph.add_node('chatbot',chatbot)\n",
    "graph.add_edge(START,'chatbot')\n",
    "graph.add_edge('chatbot',END)\n",
    "workflow=graph.compile()"
   ]
  },
  {
   "cell_type": "code",
   "execution_count": 9,
   "id": "6990e94a",
   "metadata": {},
   "outputs": [
    {
     "data": {
      "image/png": "[encoded data removed]",
      "text/plain": [
       "<langgraph.graph.state.CompiledStateGraph object at 0x000001E61B242270>"
      ]
     },
     "execution_count": 9,
     "metadata": {},
     "output_type": "execute_result"
    }
   ],
   "source": [
    "workflow"
   ]
  },
  {
   "cell_type": "code",
   "execution_count": 10,
   "id": "b03da699",
   "metadata": {},
   "outputs": [],
   "source": [
    "initial_stae={'messages':'what is 2 pluse 15'}"
   ]
  },
  {
   "cell_type": "code",
   "execution_count": 11,
   "id": "1dce25a9",
   "metadata": {},
   "outputs": [],
   "source": [
    "result=workflow.invoke(initial_stae)"
   ]
  },
  {
   "cell_type": "code",
   "execution_count": 13,
   "id": "f49ab16b",
   "metadata": {},
   "outputs": [],
   "source": [
    "def multiplay(a:int,b:int)->int:\n",
    "    '''Multiple a and b.\n",
    "    agrs:\n",
    "    a:first int\n",
    "    b:second int\n",
    "    '''\n",
    "    return a*b\n"
   ]
  },
  {
   "cell_type": "code",
   "execution_count": 14,
   "id": "891d37b0",
   "metadata": {},
   "outputs": [
    {
     "data": {
      "text/plain": [
       "ChatGroq(client=<groq.resources.chat.completions.Completions object at 0x000001E61B242750>, async_client=<groq.resources.chat.completions.AsyncCompletions object at 0x000001E61C35A090>, model_name='gemma2-9b-it', model_kwargs={}, groq_api_key=SecretStr('**********'))"
      ]
     },
     "execution_count": 14,
     "metadata": {},
     "output_type": "execute_result"
    }
   ],
   "source": [
    "llm"
   ]
  },
  {
   "cell_type": "code",
   "execution_count": 15,
   "id": "5fabf590",
   "metadata": {},
   "outputs": [],
   "source": [
    "llmtool=llm.bind_tools([multiplay])"
   ]
  },
  {
   "cell_type": "code",
   "execution_count": 16,
   "id": "2e711a68",
   "metadata": {},
   "outputs": [],
   "source": [
    "from langgraph.prebuilt import ToolNode\n",
    "from langgraph.prebuilt import tools_condition\n",
    "class SState(TypedDict):\n",
    "    messages:Annotated[list[AnyMessage],add_messages]"
   ]
  },
  {
   "cell_type": "code",
   "execution_count": 17,
   "id": "72c4d7f1",
   "metadata": {},
   "outputs": [],
   "source": [
    "def chatbot7(state:SState):\n",
    "    return{'messages':[llmtool.invoke(state['messages'])]}"
   ]
  },
  {
   "cell_type": "code",
   "execution_count": 19,
   "id": "29d10ea7",
   "metadata": {},
   "outputs": [],
   "source": [
    "graph=StateGraph(SState)\n",
    "graph.add_node('chatbot7',chatbot7)\n",
    "graph.add_node('tools',ToolNode([multiplay]))\n",
    "\n",
    "\n",
    "graph.add_edge(START,'chatbot7')\n",
    "graph.add_conditional_edges(\n",
    "    'chatbot7',\n",
    "    tools_condition,\n",
    ")\n",
    "graph.add_edge('tools',END)\n",
    "workflow=graph.compile()"
   ]
  },
  {
   "cell_type": "code",
   "execution_count": 20,
   "id": "d5250345",
   "metadata": {},
   "outputs": [
    {
     "data": {
      "image/png": "[encoded data removed]",
      "text/plain": [
       "<langgraph.graph.state.CompiledStateGraph object at 0x000001E61C2F6900>"
      ]
     },
     "execution_count": 20,
     "metadata": {},
     "output_type": "execute_result"
    }
   ],
   "source": [
    "workflow"
   ]
  },
  {
   "cell_type": "code",
   "execution_count": 21,
   "id": "bdc74681",
   "metadata": {},
   "outputs": [],
   "source": [
    "initial={'messages':'what is 3 multiplay 3'}"
   ]
  },
  {
   "cell_type": "code",
   "execution_count": 24,
   "id": "b929e403",
   "metadata": {},
   "outputs": [
    {
     "data": {
      "text/plain": [
       "{'messages': [HumanMessage(content='what is 3 multiplay 3', additional_kwargs={}, response_metadata={}, id='8fe7ab1a-d738-44b2-854d-0733543bb460'),\n",
       "  AIMessage(content='', additional_kwargs={'tool_calls': [{'id': '3aq0tzbrd', 'function': {'arguments': '{\"a\":3,\"b\":3}', 'name': 'multiplay'}, 'type': 'function'}]}, response_metadata={'token_usage': {'completion_tokens': 87, 'prompt_tokens': 979, 'total_tokens': 1066, 'completion_time': 0.158181818, 'prompt_time': 0.018893536, 'queue_time': 0.255129184, 'total_time': 0.177075354}, 'model_name': 'gemma2-9b-it', 'system_fingerprint': 'fp_10c08bf97d', 'service_tier': 'on_demand', 'finish_reason': 'tool_calls', 'logprobs': None}, id='run--7cb5668a-1a10-42e3-9952-30fb0685b82d-0', tool_calls=[{'name': 'multiplay', 'args': {'a': 3, 'b': 3}, 'id': '3aq0tzbrd', 'type': 'tool_call'}], usage_metadata={'input_tokens': 979, 'output_tokens': 87, 'total_tokens': 1066}),\n",
       "  ToolMessage(content='9', name='multiplay', id='995d3390-4ae7-4175-adef-7152aba46d6f', tool_call_id='3aq0tzbrd')]}"
      ]
     },
     "execution_count": 24,
     "metadata": {},
     "output_type": "execute_result"
    }
   ],
   "source": [
    "workflow.invoke(initial)"
   ]
  },
  {
   "cell_type": "code",
   "execution_count": null,
   "id": "cf353a8e",
   "metadata": {},
   "outputs": [],
   "source": []
  }
 ],
 "metadata": {
  "kernelspec": {
   "display_name": "langgraphx",
   "language": "python",
   "name": "python3"
  },
  "language_info": {
   "codemirror_mode": {
    "name": "ipython",
    "version": 3
   },
   "file_extension": ".py",
   "mimetype": "text/x-python",
   "name": "python",
   "nbconvert_exporter": "python",
   "pygments_lexer": "ipython3",
   "version": "3.12.0"
  }
 },
 "nbformat": 4,
 "nbformat_minor": 5
}
