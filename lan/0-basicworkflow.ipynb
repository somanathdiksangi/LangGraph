{
 "cells": [
  {
   "cell_type": "code",
   "execution_count": 11,
   "id": "edfb9278",
   "metadata": {},
   "outputs": [],
   "source": [
    "from langgraph.graph import StateGraph,START,END\n",
    "from typing import TypedDict\n"
   ]
  },
  {
   "cell_type": "code",
   "execution_count": null,
   "id": "692e622f",
   "metadata": {},
   "outputs": [],
   "source": [
    "#define state\n",
    "class BMIState(TypedDict):\n",
    "    weight_kg:float\n",
    "    height_m:float\n",
    "    bmi:float\n",
    "    category:str\n"
   ]
  },
  {
   "cell_type": "code",
   "execution_count": 13,
   "id": "4aef3697",
   "metadata": {},
   "outputs": [],
   "source": [
    "def claculate_bmi(state:BMIState)->BMIState:\n",
    "    weight=state['weight_kg']\n",
    "    height=state['height_m']\n",
    "    bmi=weight/(height**2)\n",
    "    state['bmi']=round(bmi,2)\n",
    "    return state\n"
   ]
  },
  {
   "cell_type": "code",
   "execution_count": 39,
   "id": "697102a5",
   "metadata": {},
   "outputs": [],
   "source": [
    "def label_bmi(state:BMIState)->BMIState:\n",
    "    bmi=state['bmi']\n",
    "    if bmi ==0.01:\n",
    "        state['category']=\"underweight\"\n",
    "    elif 18.5 <=bmi <25:\n",
    "        state['category']=\"normal\"\n",
    "    else:\n",
    "        state['category']='obese'\n",
    "    return state\n",
    "\n"
   ]
  },
  {
   "cell_type": "code",
   "execution_count": 40,
   "id": "5661772a",
   "metadata": {},
   "outputs": [],
   "source": [
    "#define graph\n",
    "graph=StateGraph(BMIState)\n",
    "\n",
    "# add node to your graph\n",
    "graph.add_node('claculate_bmi',claculate_bmi)\n",
    "graph.add_node('label_bmi',label_bmi)\n",
    "#add edge \n",
    "graph.add_edge(START,'claculate_bmi')\n",
    "graph.add_edge('claculate_bmi','label_bmi')\n",
    "graph.add_edge('label_bmi',END)\n",
    "\n",
    "#compile the graph\n",
    "workflow=graph.compile()\n",
    "\n"
   ]
  },
  {
   "cell_type": "code",
   "execution_count": 41,
   "id": "66143f39",
   "metadata": {},
   "outputs": [],
   "source": [
    "initial_state={'weight_kg':80,'height_m':123}"
   ]
  },
  {
   "cell_type": "code",
   "execution_count": 42,
   "id": "3245a300",
   "metadata": {},
   "outputs": [],
   "source": [
    "final_state=workflow.invoke(initial_state)"
   ]
  },
  {
   "cell_type": "code",
   "execution_count": 43,
   "id": "98d8168c",
   "metadata": {},
   "outputs": [
    {
     "data": {
      "text/plain": [
       "{'weight_kg': 80, 'height_m': 123, 'bmi': 0.01}"
      ]
     },
     "execution_count": 43,
     "metadata": {},
     "output_type": "execute_result"
    }
   ],
   "source": [
    "final_state"
   ]
  },
  {
   "cell_type": "code",
   "execution_count": 33,
   "id": "dbae0383",
   "metadata": {},
   "outputs": [
    {
     "data": {
      "image/png": "[encoded data removed]",
      "text/plain": [
       "<IPython.core.display.Image object>"
      ]
     },
     "execution_count": 33,
     "metadata": {},
     "output_type": "execute_result"
    }
   ],
   "source": [
    "from IPython.display import Image\n",
    "Image(workflow.get_graph().draw_mermaid_png())"
   ]
  },
  {
   "cell_type": "code",
   "execution_count": null,
   "id": "de0880ce",
   "metadata": {},
   "outputs": [],
   "source": []
  }
 ],
 "metadata": {
  "kernelspec": {
   "display_name": "langgraphx",
   "language": "python",
   "name": "python3"
  },
  "language_info": {
   "codemirror_mode": {
    "name": "ipython",
    "version": 3
   },
   "file_extension": ".py",
   "mimetype": "text/x-python",
   "name": "python",
   "nbconvert_exporter": "python",
   "pygments_lexer": "ipython3",
   "version": "3.12.0"
  }
 },
 "nbformat": 4,
 "nbformat_minor": 5
}
