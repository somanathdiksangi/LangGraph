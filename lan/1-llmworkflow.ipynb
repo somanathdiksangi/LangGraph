{
 "cells": [
  {
   "cell_type": "code",
   "execution_count": 1,
   "id": "faab6c9b",
   "metadata": {},
   "outputs": [
    {
     "data": {
      "text/plain": [
       "2"
      ]
     },
     "execution_count": 1,
     "metadata": {},
     "output_type": "execute_result"
    }
   ],
   "source": [
    "1+1"
   ]
  },
  {
   "cell_type": "code",
   "execution_count": 1,
   "id": "68a6c03c",
   "metadata": {},
   "outputs": [],
   "source": [
    "from langchain_groq import ChatGroq\n",
    "from langgraph.graph import StateGraph ,START ,END\n",
    "from typing import TypedDict\n",
    "from dotenv import load_dotenv\n",
    "import os"
   ]
  },
  {
   "cell_type": "code",
   "execution_count": 2,
   "id": "60d20ad5",
   "metadata": {},
   "outputs": [],
   "source": [
    "load_dotenv()\n",
    "api_key=os.getenv('GROQ_API_KEY')"
   ]
  },
  {
   "cell_type": "code",
   "execution_count": null,
   "id": "d39f0579",
   "metadata": {},
   "outputs": [],
   "source": [
    "model=ChatGroq(model='llama3-8b-8192',api_key=\"\")"
   ]
  },
  {
   "cell_type": "code",
   "execution_count": 4,
   "id": "e82801bf",
   "metadata": {},
   "outputs": [
    {
     "data": {
      "text/plain": [
       "AIMessage(content=\"Hii! It's nice to meet you. Is there something I can help you with or would you like to chat?\", additional_kwargs={}, response_metadata={'token_usage': {'completion_tokens': 26, 'prompt_tokens': 12, 'total_tokens': 38, 'completion_time': 0.045280697, 'prompt_time': 0.0079397, 'queue_time': 0.369363421, 'total_time': 0.053220397}, 'model_name': 'llama3-8b-8192', 'system_fingerprint': 'fp_0fb809dba3', 'service_tier': 'on_demand', 'finish_reason': 'stop', 'logprobs': None}, id='run--0a6824c4-a907-489d-a8a8-61724ff99665-0', usage_metadata={'input_tokens': 12, 'output_tokens': 26, 'total_tokens': 38})"
      ]
     },
     "execution_count": 4,
     "metadata": {},
     "output_type": "execute_result"
    }
   ],
   "source": [
    "model.invoke(\"hii\")"
   ]
  },
  {
   "cell_type": "code",
   "execution_count": 25,
   "id": "c8bea85b",
   "metadata": {},
   "outputs": [],
   "source": [
    "class LLMw(TypedDict):\n",
    "    qustion:str\n",
    "    ans:str"
   ]
  },
  {
   "cell_type": "code",
   "execution_count": 27,
   "id": "db2b04e8",
   "metadata": {},
   "outputs": [],
   "source": [
    "def llm_talk(state:LLMw)->LLMw:\n",
    "    qustion=state['qustion']\n",
    "    prompt=f'answer the following qustion {qustion}'\n",
    "    ans=model.invoke(prompt)\n",
    "    state['ans']=ans\n",
    "    return state"
   ]
  },
  {
   "cell_type": "code",
   "execution_count": 29,
   "id": "8e0f46f7",
   "metadata": {},
   "outputs": [],
   "source": [
    "graph=StateGraph(LLMw)\n",
    "# add node \n",
    "graph.add_node('llm_talk',llm_talk)\n",
    "# add edge\n",
    "graph.add_edge(START,'llm_talk')\n",
    "graph.add_edge('llm_talk',END)\n",
    "\n",
    "workflow=graph.compile()"
   ]
  },
  {
   "cell_type": "code",
   "execution_count": 30,
   "id": "66fade3c",
   "metadata": {},
   "outputs": [],
   "source": [
    "initail_state={'qustion':'what is the black hole'}"
   ]
  },
  {
   "cell_type": "code",
   "execution_count": 31,
   "id": "bb2cedd1",
   "metadata": {},
   "outputs": [],
   "source": [
    "final_state=workflow.invoke(initail_state)"
   ]
  },
  {
   "cell_type": "code",
   "execution_count": 35,
   "id": "bafb1721",
   "metadata": {},
   "outputs": [
    {
     "data": {
      "text/plain": [
       "'A fascinating topic!\\n\\nA black hole is a region in space where the gravitational pull is so strong that nothing, including light, can escape. It is formed when a massive star collapses in on itself and its gravity becomes so strong that it warps the fabric of spacetime around it.\\n\\nHere\\'s a simplified explanation:\\n\\n**How a black hole forms:**\\n\\n1. A massive star runs out of fuel and dies.\\n2. The star collapses under its own gravity, causing a massive amount of matter to be compressed into a tiny point called a singularity.\\n3. The gravity of the singularity becomes so strong that it creates a boundary called the event horizon.\\n4. Once something crosses the event horizon, it is trapped by the black hole\\'s gravity and cannot escape.\\n\\n**Properties of a black hole:**\\n\\n1. **Mass:** Black holes come in a range of masses, from a few solar masses to supermassive black holes found at the centers of galaxies, with masses millions or even billions of times that of the sun.\\n2. **Event Horizon:** The point of no return, where the gravitational pull becomes so strong that anything that crosses it will be trapped by the black hole.\\n3. **Singularity:** The infinitely dense point at the center of the black hole, where the laws of physics as we know them break down.\\n4. **Gravitational Pull:** The gravity of a black hole is so strong that it warps spacetime, causing strange effects such as time dilation, gravitational lensing, and frame-dragging.\\n5. **No Light Can Escape:** Since nothing, including light, can escape the gravitational pull of a black hole, it is invisible to us, making it a \"black\" hole.\\n\\n**Types of Black Holes:**\\n\\n1. **Stellar Black Holes:** Formed from the collapse of individual stars, these black holes have masses similar to that of the sun.\\n2. **Supermassive Black Holes:** Found at the centers of galaxies, these black holes have masses millions or billions of times that of the sun.\\n3. **Intermediate-Mass Black Holes:** Black holes with masses between those of stellar and supermassive black holes.\\n\\n**Detection and Study of Black Holes:**\\n\\n1. **X-rays and Gamma Rays:** Telescopes can detect X-rays and gamma rays emitted by hot gas swirling around black holes.\\n2. **Radio Waves:** Radio telescopes can detect radio waves emitted by matter as it spirals into a black hole.\\n3. **Gravitational Waves:** The detection of gravitational waves by LIGO and VIRGO have confirmed the existence of black holes and provided new insights into their behavior.\\n\\nBlack holes are still a topic of active research, and scientists continue to study them to learn more about their properties, behavior, and role in the universe.'"
      ]
     },
     "execution_count": 35,
     "metadata": {},
     "output_type": "execute_result"
    }
   ],
   "source": [
    "final_state['ans'].content"
   ]
  },
  {
   "cell_type": "markdown",
   "id": "dd28ac53",
   "metadata": {},
   "source": [
    "## prompt chaining"
   ]
  },
  {
   "cell_type": "code",
   "execution_count": 5,
   "id": "8ce08793",
   "metadata": {},
   "outputs": [],
   "source": [
    "class Blockstaet(TypedDict):\n",
    "    tital:str\n",
    "    outline:str\n",
    "    content:str"
   ]
  },
  {
   "cell_type": "code",
   "execution_count": 7,
   "id": "502c297a",
   "metadata": {},
   "outputs": [],
   "source": [
    "def create_outline(state:Blockstaet)->Blockstaet:\n",
    "    tital=state['tital']\n",
    "    prompt=f'genearate a outiline dor this tital {tital}'\n",
    "    outline=model.invoke(prompt)\n",
    "    state['outline']=outline\n",
    "    return state"
   ]
  },
  {
   "cell_type": "code",
   "execution_count": 8,
   "id": "dc79f8c8",
   "metadata": {},
   "outputs": [],
   "source": [
    "def create_content(state:Blockstaet)->Blockstaet:\n",
    "    outline=state['outline']\n",
    "    prompt=f'generare a content use this outline{outline}'\n",
    "    content=model.invoke(prompt)\n",
    "    state['content']=content\n",
    "    return state"
   ]
  },
  {
   "cell_type": "code",
   "execution_count": 9,
   "id": "51cd9ab6",
   "metadata": {},
   "outputs": [],
   "source": [
    "graph=StateGraph(Blockstaet)\n",
    "# add node \n",
    "graph.add_node('create_outline',create_outline)\n",
    "graph.add_node('create_content',create_content)\n",
    "# add edge\n",
    "graph.add_edge(START,'create_outline')\n",
    "graph.add_edge('create_outline','create_content')\n",
    "graph.add_edge('create_content',END)\n",
    "\n",
    "workflow=graph.compile()"
   ]
  },
  {
   "cell_type": "code",
   "execution_count": 10,
   "id": "35351bf7",
   "metadata": {},
   "outputs": [
    {
     "data": {
      "image/png": "[encoded data removed]",
      "text/plain": [
       "<langgraph.graph.state.CompiledStateGraph object at 0x0000017A13302180>"
      ]
     },
     "execution_count": 10,
     "metadata": {},
     "output_type": "execute_result"
    }
   ],
   "source": [
    "workflow"
   ]
  },
  {
   "cell_type": "code",
   "execution_count": 13,
   "id": "6e080ff4",
   "metadata": {},
   "outputs": [],
   "source": [
    "initial_staet={'tital':'AI'}"
   ]
  },
  {
   "cell_type": "code",
   "execution_count": 15,
   "id": "ec1ec1ec",
   "metadata": {},
   "outputs": [],
   "source": [
    "final=workflow.invoke(initial_staet)"
   ]
  },
  {
   "cell_type": "code",
   "execution_count": 16,
   "id": "dfc9b1ff",
   "metadata": {},
   "outputs": [
    {
     "data": {
      "text/plain": [
       "{'tital': 'AI',\n",
       " 'outline': AIMessage(content=\"Here is a potential outline for an article about AI:\\n\\n**I. Introduction**\\n\\n* Definition of AI and its significance in modern technology\\n* Brief overview of the article's content\\n\\n**II. What is AI?**\\n\\n* Explanation of the basic concepts of AI, such as machine learning and deep learning\\n* Examples of how AI is used in various industries and applications\\n\\n**III. History of AI**\\n\\n* Overview of the history of AI, from its origins in the 1950s to the present day\\n* Key milestones and breakthroughs in AI research and development\\n\\n**IV. Types of AI**\\n\\n* Explanation of the different types of AI, such as:\\n\\t+ Narrow or weak AI: focused on a specific task or domain\\n\\t+ General or strong AI: capable of general intelligence and problem-solving\\n\\t+ Superintelligence: significantly more intelligent than the human brain\\n\\t+ Artificial general intelligence (AGI): capable of performing any intellectual task\\n\\n**V. Applications of AI**\\n\\n* Overview of the various ways AI is used in different industries and sectors, such as:\\n\\t+ Healthcare: medical diagnosis, treatment planning, and patient care\\n\\t+ Finance: trading, risk analysis, and portfolio management\\n\\t+ Transportation: autonomous vehicles, route optimization, and traffic management\\n\\t+ Education: personalized learning, adaptive testing, and educational games\\n\\n**VI. Benefits and Challenges of AI**\\n\\n* Discussion of the benefits of AI, such as:\\n\\t+ Increased efficiency and productivity\\n\\t+ Improved accuracy and decision-making\\n\\t+ Enhanced customer experience and personalized services\\n* Discussion of the challenges and limitations of AI, such as:\\n\\t+ Job displacement and labor market disruption\\n\\t+ Data quality and bias issues\\n\\t+ Ethical concerns and accountability\\n\\n**VII. The Future of AI**\\n\\n* Speculation about the potential future developments and advancements in AI\\n* Discussion of the potential societal and economic impacts of AI on the future\\n\\n**VIII. Conclusion**\\n\\n* Summary of the main points and takeaways from the article\\n* Final thoughts and reflections on the significance and potential of AI.\\n\\nLet me know if you'd like me to elaborate on any of these points or if you have any specific requests!\", additional_kwargs={}, response_metadata={'token_usage': {'completion_tokens': 448, 'prompt_tokens': 21, 'total_tokens': 469, 'completion_time': 0.589066549, 'prompt_time': 0.013520335, 'queue_time': 0.393040047, 'total_time': 0.602586884}, 'model_name': 'llama3-8b-8192', 'system_fingerprint': 'fp_0fb809dba3', 'service_tier': 'on_demand', 'finish_reason': 'stop', 'logprobs': None}, id='run--9515fb13-a137-4ba4-adcd-af95f0b80b83-0', usage_metadata={'input_tokens': 21, 'output_tokens': 448, 'total_tokens': 469}),\n",
       " 'content': AIMessage(content=\"Here is the generated content using the provided outline:\\n\\n**Here is a potential outline for an article about AI:**\\n\\n**I. Introduction**\\n\\nArtificial Intelligence (AI) has revolutionized the way we live and work in the modern technology era. From self-driving cars to personalized recommendations on our favorite social media platforms, AI is everywhere. In this article, we will delve into the world of AI, exploring its definition, history, types, applications, benefits, challenges, and future developments.\\n\\n**II. What is AI?**\\n\\nArtificial Intelligence is a broad term that encompasses a range of techniques and methods used to build machines that can perform tasks that typically require human intelligence. Machine learning and deep learning are two fundamental concepts in AI that enable machines to learn from data and improve their performance over time. For instance, AI is used in various industries such as healthcare, finance, transportation, and education to automate tasks, make predictions, and provide personalized services.\\n\\n**III. History of AI**\\n\\nThe history of AI dates back to the 1950s, when computer scientists first began exploring the possibility of creating machines that could think and learn like humans. Since then, AI has undergone significant advancements, with key milestones and breakthroughs in AI research and development. From the development of the first AI program, ELIZA, to the creation of deep learning algorithms, AI has come a long way.\\n\\n**IV. Types of AI**\\n\\nThere are several types of AI, each with its unique characteristics and capabilities. Narrow or weak AI is focused on a specific task or domain and is limited in its abilities. General or strong AI, on the other hand, is capable of general intelligence and problem-solving. Superintelligence refers to AI that is significantly more intelligent than the human brain. Artificial general intelligence (AGI) is capable of performing any intellectual task.\\n\\n**V. Applications of AI**\\n\\nAI has numerous applications across various industries and sectors. In healthcare, AI is used for medical diagnosis, treatment planning, and patient care. In finance, AI is used for trading, risk analysis, and portfolio management. In transportation, AI is used for autonomous vehicles, route optimization, and traffic management. In education, AI is used for personalized learning, adaptive testing, and educational games.\\n\\n**VI. Benefits and Challenges of AI**\\n\\nThe benefits of AI include increased efficiency and productivity, improved accuracy and decision-making, and enhanced customer experience and personalized services. However, there are also challenges and limitations of AI, such as job displacement and labor market disruption, data quality and bias issues, and ethical concerns and accountability.\\n\\n**VII. The Future of AI**\\n\\nThe future of AI is exciting and holds much promise. As AI continues to evolve, we can expect to see more advancements in areas such as natural language processing, computer vision, and robotics. AI will also have a significant impact on the future of work, with many jobs being disrupted and new ones being created.\\n\\n**VIII. Conclusion**\\n\\nIn conclusion, AI has come a long way since its inception and has revolutionized the way we live and work. From its definition and history to its types and applications, AI is a fascinating field that continues to evolve and shape our world. As we look to the future, it is essential to consider the benefits and challenges of AI and to ensure that its development is responsible and ethical.\\n\\nLet me know if you'd like me to elaborate on any of these points or if you have any specific requests!\", additional_kwargs={}, response_metadata={'token_usage': {'completion_tokens': 696, 'prompt_tokens': 682, 'total_tokens': 1378, 'completion_time': 0.852661063, 'prompt_time': 0.07622783, 'queue_time': 0.26760471, 'total_time': 0.928888893}, 'model_name': 'llama3-8b-8192', 'system_fingerprint': 'fp_0fb809dba3', 'service_tier': 'on_demand', 'finish_reason': 'stop', 'logprobs': None}, id='run--9dc90e2c-b193-4253-8a82-5d1618a07243-0', usage_metadata={'input_tokens': 682, 'output_tokens': 696, 'total_tokens': 1378})}"
      ]
     },
     "execution_count": 16,
     "metadata": {},
     "output_type": "execute_result"
    }
   ],
   "source": [
    "final"
   ]
  },
  {
   "cell_type": "code",
   "execution_count": null,
   "id": "8e18986a",
   "metadata": {},
   "outputs": [],
   "source": []
  }
 ],
 "metadata": {
  "kernelspec": {
   "display_name": "langgraphx",
   "language": "python",
   "name": "python3"
  },
  "language_info": {
   "codemirror_mode": {
    "name": "ipython",
    "version": 3
   },
   "file_extension": ".py",
   "mimetype": "text/x-python",
   "name": "python",
   "nbconvert_exporter": "python",
   "pygments_lexer": "ipython3",
   "version": "3.12.0"
  }
 },
 "nbformat": 4,
 "nbformat_minor": 5
}
