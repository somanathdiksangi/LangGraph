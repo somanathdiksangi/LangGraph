{
 "cells": [
  {
   "cell_type": "code",
   "execution_count": 8,
   "id": "d5f240f0",
   "metadata": {},
   "outputs": [],
   "source": [
    "from langgraph.graph import StateGraph ,START,END\n",
    "from typing import TypedDict,Literal,Annotated\n",
    "from langchain_groq import ChatGroq\n",
    "from langchain_core.messages import SystemMessage,BaseMessage,HumanMessage\n",
    "from langgraph.graph.message import add_messages\n",
    "from typing import Annotated  \n",
    "from langgraph.checkpoint.memory import InMemorySaver"
   ]
  },
  {
   "cell_type": "code",
   "execution_count": 2,
   "id": "87d84b9c",
   "metadata": {},
   "outputs": [],
   "source": [
    "import os\n",
    "from dotenv import load_dotenv\n",
    "load_dotenv()\n",
    "os.environ[\"GROQ_API_KEY\"]=os.getenv(\"GROQ_API_KEY\")\n",
    "\n",
    "from langchain_groq import ChatGroq\n",
    "llm=ChatGroq(model=\"gemma2-9b-it\")"
   ]
  },
  {
   "cell_type": "code",
   "execution_count": 3,
   "id": "01d11d4e",
   "metadata": {},
   "outputs": [],
   "source": [
    "class State(TypedDict):\n",
    "    topic:str\n",
    "    joke:str\n",
    "    detail:str"
   ]
  },
  {
   "cell_type": "code",
   "execution_count": 4,
   "id": "4e0010e6",
   "metadata": {},
   "outputs": [],
   "source": [
    "def joke(state:State):\n",
    "    prompt=f\"make joke of this topic {state['joke']}\"\n",
    "    responce=llm.invoke(prompt).content\n",
    "    return{'joke':responce}"
   ]
  },
  {
   "cell_type": "code",
   "execution_count": 5,
   "id": "98f04b65",
   "metadata": {},
   "outputs": [],
   "source": [
    "def detail(state:State):\n",
    "    prompt=f\"explain this joke {state['joke']}\"\n",
    "    responce=llm.invoke(prompt).content\n",
    "    return{'detail':responce}"
   ]
  },
  {
   "cell_type": "code",
   "execution_count": 9,
   "id": "116c1c8f",
   "metadata": {},
   "outputs": [],
   "source": [
    "cheackpointer=InMemorySaver()\n",
    "graph=StateGraph(State)\n",
    "graph.add_node('joke',joke)\n",
    "graph.add_node('detail',detail)\n",
    "graph.add_edge(START,'joke')\n",
    "graph.add_edge('joke','detail')\n",
    "graph.add_edge('detail',END)\n",
    "workflow=graph.compile(checkpointer=cheackpointer)"
   ]
  },
  {
   "cell_type": "code",
   "execution_count": 10,
   "id": "cf3d5df1",
   "metadata": {},
   "outputs": [
    {
     "data": {
      "image/png": "[encoded data removed]",
      "text/plain": [
       "<langgraph.graph.state.CompiledStateGraph object at 0x0000022EEC5F9D00>"
      ]
     },
     "execution_count": 10,
     "metadata": {},
     "output_type": "execute_result"
    }
   ],
   "source": [
    "workflow"
   ]
  },
  {
   "cell_type": "code",
   "execution_count": null,
   "id": "150f1b52",
   "metadata": {},
   "outputs": [],
   "source": []
  }
 ],
 "metadata": {
  "kernelspec": {
   "display_name": "langgraphx",
   "language": "python",
   "name": "python3"
  },
  "language_info": {
   "codemirror_mode": {
    "name": "ipython",
    "version": 3
   },
   "file_extension": ".py",
   "mimetype": "text/x-python",
   "name": "python",
   "nbconvert_exporter": "python",
   "pygments_lexer": "ipython3",
   "version": "3.12.0"
  }
 },
 "nbformat": 4,
 "nbformat_minor": 5
}
