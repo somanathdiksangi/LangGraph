{
 "cells": [
  {
   "cell_type": "code",
   "execution_count": 1,
   "id": "d71f4fa6",
   "metadata": {},
   "outputs": [
    {
     "data": {
      "text/plain": [
       "11"
      ]
     },
     "execution_count": 1,
     "metadata": {},
     "output_type": "execute_result"
    }
   ],
   "source": [
    "11"
   ]
  },
  {
   "cell_type": "code",
   "execution_count": 2,
   "id": "57dca80f",
   "metadata": {},
   "outputs": [],
   "source": [
    "from langgraph.graph import StateGraph ,START,END\n",
    "from typing import TypedDict,Literal,Annotated\n",
    "from langchain_groq import ChatGroq\n",
    "from langchain_core.messages import SystemMessage,HumanMessage"
   ]
  },
  {
   "cell_type": "code",
   "execution_count": 3,
   "id": "48943b33",
   "metadata": {},
   "outputs": [],
   "source": [
    "import os\n",
    "from dotenv import load_dotenv\n",
    "load_dotenv()\n",
    "os.environ[\"GROQ_API_KEY\"]=os.getenv(\"GROQ_API_KEY\")\n",
    "\n",
    "from langchain_groq import ChatGroq\n",
    "genarater_llm=ChatGroq(model=\"gemma2-9b-it\")\n",
    "evaluvater_llm=ChatGroq(model=\"deepseek-r1-distill-llama-70b\")\n",
    "optimizer_llm=ChatGroq(model=\"qwen/qwen3-32b\")\n"
   ]
  },
  {
   "cell_type": "code",
   "execution_count": 9,
   "id": "c4b408b4",
   "metadata": {},
   "outputs": [],
   "source": [
    "\n",
    "from pydantic import BaseModel, Field\n",
    "\n",
    "class TweetEvaluation(BaseModel):\n",
    "    evaluation: Literal[\"approved\", \"needs_improvement\"] = Field(..., description=\"Final evaluation result.\")\n",
    "    feedback: str = Field(..., description=\"feedback for the tweet.\")"
   ]
  },
  {
   "cell_type": "code",
   "execution_count": 10,
   "id": "af8b4c4b",
   "metadata": {},
   "outputs": [],
   "source": [
    "structer_evaluvater_llm=evaluvater_llm.with_structured_output(TweetEvaluation)"
   ]
  },
  {
   "cell_type": "code",
   "execution_count": 4,
   "id": "9906cbb5",
   "metadata": {},
   "outputs": [],
   "source": [
    "class TweetState(TypedDict):\n",
    "    topic:str\n",
    "    tweet:str\n",
    "    evaluacion:Literal[\"approved\",\"need_improve\"]\n",
    "    feedback:str\n",
    "    iteration:int\n",
    "    max_iteration:int"
   ]
  },
  {
   "cell_type": "code",
   "execution_count": 5,
   "id": "b69980ac",
   "metadata": {},
   "outputs": [],
   "source": [
    "def genarate(state:TweetState):\n",
    "     messages = [\n",
    "        SystemMessage(content=\"You are a funny and clever Twitter/X influencer.\"),\n",
    "        HumanMessage(content=f\"\"\"\n",
    "Write a short, original, and hilarious tweet on the topic: \"{state['topic']}\".\n",
    "\n",
    "Rules:\n",
    "- Do NOT use question-answer format.\n",
    "- Max 280 characters.\n",
    "- Use observational humor, irony, sarcasm, or cultural references.\n",
    "- Think in meme logic, punchlines, or relatable takes.\n",
    "- Use simple, day to day english\n",
    "\"\"\")\n",
    "    ]\n",
    "     responce=genarater_llm.invoke(messages).content\n",
    "     return {'tweet':responce}"
   ]
  },
  {
   "cell_type": "code",
   "execution_count": 11,
   "id": "7f25ae8c",
   "metadata": {},
   "outputs": [],
   "source": [
    "def evaluatetweet(state:TweetState):\n",
    "    messages = [\n",
    "    SystemMessage(content=\"You are a ruthless, no-laugh-given Twitter critic. You evaluate tweets based on humor, originality, virality, and tweet format.\"),\n",
    "    HumanMessage(content=f\"\"\"\n",
    "Evaluate the following tweet:\n",
    "\n",
    "Tweet: \"{state['tweet']}\"\n",
    "\n",
    "Use the criteria below to evaluate the tweet:\n",
    "\n",
    "1. Originality – Is this fresh, or have you seen it a hundred times before?  \n",
    "2. Humor – Did it genuinely make you smile, laugh, or chuckle?  \n",
    "3. Punchiness – Is it short, sharp, and scroll-stopping?  \n",
    "4. Virality Potential – Would people retweet or share it?  \n",
    "5. Format – Is it a well-formed tweet (not a setup-punchline joke, not a Q&A joke, and under 280 characters)?\n",
    "\n",
    "Auto-reject if:\n",
    "- It's written in question-answer format (e.g., \"Why did...\" or \"What happens when...\")\n",
    "- It exceeds 280 characters\n",
    "- It reads like a traditional setup-punchline joke\n",
    "- Dont end with generic, throwaway, or deflating lines that weaken the humor (e.g., “Masterpieces of the auntie-uncle universe” or vague summaries)\n",
    "\n",
    "### Respond ONLY in structured format:\n",
    "- evaluation: \"approved\" or \"needs_improvement\"  \n",
    "- feedback: One paragraph explaining the strengths and weaknesses \n",
    "\"\"\")\n",
    "]\n",
    "    responce=structer_evaluvater_llm.invoke(messages)\n",
    "    return{'evaluacion':responce.evaluation,'feedback':responce.feedback}"
   ]
  },
  {
   "cell_type": "code",
   "execution_count": 15,
   "id": "924d8785",
   "metadata": {},
   "outputs": [],
   "source": [
    "def optimize(state:TweetState):\n",
    "    messages = [\n",
    "        SystemMessage(content=\"You punch up tweets for virality and humor based on given feedback.\"),\n",
    "        HumanMessage(content=f\"\"\"\n",
    "Improve the tweet based on this feedback:\n",
    "\"{state['feedback']}\"\n",
    "\n",
    "Topic: \"{state['topic']}\"\n",
    "Original Tweet:\n",
    "{state['tweet']}\n",
    "\n",
    "Re-write it as a short, viral-worthy tweet. Avoid Q&A style and stay under 280 characters.\n",
    "\"\"\")\n",
    "    ]\n",
    "    responce=optimizer_llm.invoke(messages).content\n",
    "    iteration=state['iteration'] + 1\n",
    "    return{'tweet':responce,'iteration':iteration}\n",
    "       \n",
    "\n"
   ]
  },
  {
   "cell_type": "code",
   "execution_count": 17,
   "id": "38d846e8",
   "metadata": {},
   "outputs": [],
   "source": [
    "def route(state:TweetState):\n",
    "    if state['evaluacion'] == 'approved' or state['max_iteration']<=state['iteration']:\n",
    "        return 'approved'\n",
    "    else:\n",
    "        return 'need_improve'"
   ]
  },
  {
   "cell_type": "code",
   "execution_count": 18,
   "id": "7297876c",
   "metadata": {},
   "outputs": [],
   "source": [
    "graph=StateGraph(TweetState)\n",
    "graph.add_node('genarate',genarate)\n",
    "graph.add_node('evaluate',evaluatetweet)\n",
    "graph.add_node('optimize',optimize)\n",
    "\n",
    "graph.add_edge(START,'genarate')\n",
    "graph.add_edge('genarate','evaluate')\n",
    "graph.add_conditional_edges('evaluate',route,{'approved':END,'need_improve':'optimize'})\n",
    "graph.add_edge('optimize','evaluate')\n",
    "workflow=graph.compile()"
   ]
  },
  {
   "cell_type": "code",
   "execution_count": 19,
   "id": "d5262a68",
   "metadata": {},
   "outputs": [
    {
     "data": {
      "image/png": "[encoded data removed]",
      "text/plain": [
       "<langgraph.graph.state.CompiledStateGraph object at 0x000002A9360B7740>"
      ]
     },
     "execution_count": 19,
     "metadata": {},
     "output_type": "execute_result"
    }
   ],
   "source": [
    "workflow"
   ]
  },
  {
   "cell_type": "code",
   "execution_count": 21,
   "id": "42a83c82",
   "metadata": {},
   "outputs": [],
   "source": [
    "initial_state={\n",
    "    'topic':'AI',\n",
    "    'iteration':1,\n",
    "    'max_iteration':5\n",
    "}"
   ]
  },
  {
   "cell_type": "code",
   "execution_count": 23,
   "id": "484f9f72",
   "metadata": {},
   "outputs": [
    {
     "data": {
      "text/plain": [
       "{'topic': 'AI',\n",
       " 'tweet': \"Just saw an AI write a poem about existential dread.  Now I'm worried the robots are gonna start *feeling* things. Like, can I get a refund on humanity if it's now sentient and emo?  😭🤖  #AIWoes  #RobotDrama  \\n\",\n",
       " 'evaluacion': 'approved',\n",
       " 'feedback': 'This tweet is original, humorous, and punchy. It cleverly combines the fear of AI with a relatable human emotion, making it engaging and shareable. The use of emojis and hashtags adds to its appeal without feeling forced. The only minor improvement could be to make the humor slightly more unexpected to enhance virality.',\n",
       " 'iteration': 1,\n",
       " 'max_iteration': 5}"
      ]
     },
     "execution_count": 23,
     "metadata": {},
     "output_type": "execute_result"
    }
   ],
   "source": [
    "workflow.invoke(initial_state)"
   ]
  },
  {
   "cell_type": "code",
   "execution_count": null,
   "id": "1f912b70",
   "metadata": {},
   "outputs": [],
   "source": []
  }
 ],
 "metadata": {
  "kernelspec": {
   "display_name": "langgraphx",
   "language": "python",
   "name": "python3"
  },
  "language_info": {
   "codemirror_mode": {
    "name": "ipython",
    "version": 3
   },
   "file_extension": ".py",
   "mimetype": "text/x-python",
   "name": "python",
   "nbconvert_exporter": "python",
   "pygments_lexer": "ipython3",
   "version": "3.12.0"
  }
 },
 "nbformat": 4,
 "nbformat_minor": 5
}
